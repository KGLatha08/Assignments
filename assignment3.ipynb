{
 "cells": [
  {
   "cell_type": "code",
   "execution_count": 2,
   "id": "da38491b",
   "metadata": {},
   "outputs": [
    {
     "name": "stdout",
     "output_type": "stream",
     "text": [
      "addition 13\n",
      "subtraction 7\n",
      "multiplication 30\n",
      "division 3.3333333333333335\n",
      "Modulus 1\n",
      "power 1000\n",
      "Floor division 3\n"
     ]
    }
   ],
   "source": [
    "a=10\n",
    "b=3\n",
    "print(\"addition\", a+b)\n",
    "print(\"subtraction\", a-b)\n",
    "print(\"multiplication\", a*b)\n",
    "print(\"division\", a/b)\n",
    "print(\"Modulus\",a%b)\n",
    "print(\"power\", a**b)\n",
    "print(\"Floor division\", a//b)"
   ]
  },
  {
   "cell_type": "code",
   "execution_count": 3,
   "id": "edfd017a",
   "metadata": {},
   "outputs": [
    {
     "name": "stdout",
     "output_type": "stream",
     "text": [
      "True\n",
      "False\n",
      "False\n",
      "True\n",
      "False\n",
      "True\n"
     ]
    }
   ],
   "source": [
    "x = 5\n",
    "y = 10\n",
    "text1 = \"Python\"\n",
    "text2 = \"python\"\n",
    "print(x < y)\n",
    "print(x > y)\n",
    "print(x == y)\n",
    "print(x != y)\n",
    "print(text1 == text2)\n",
    "print(text1.lower() == text2.lower()) "
   ]
  },
  {
   "cell_type": "code",
   "execution_count": 4,
   "id": "72e8145a",
   "metadata": {},
   "outputs": [
    {
     "name": "stdout",
     "output_type": "stream",
     "text": [
      "True\n",
      "True\n"
     ]
    }
   ],
   "source": [
    "sentence = \"Python is a Powerful Language\"\n",
    "print(\"Powerful\" in sentence)\n",
    "print(\"Weak\" not in sentence) "
   ]
  },
  {
   "cell_type": "code",
   "execution_count": 5,
   "id": "7907f8f7",
   "metadata": {},
   "outputs": [
    {
     "name": "stdout",
     "output_type": "stream",
     "text": [
      "Apple\n",
      "Banana\n",
      "Cherry\n"
     ]
    }
   ],
   "source": [
    "fruits = [\"Apple\", \"Banana\", \"Cherry\"]\n",
    "\n",
    "for fruit in fruits:\n",
    "    print(fruit)"
   ]
  },
  {
   "cell_type": "code",
   "execution_count": 6,
   "id": "a81f3887",
   "metadata": {},
   "outputs": [
    {
     "name": "stdout",
     "output_type": "stream",
     "text": [
      "10\n",
      "9\n",
      "8\n",
      "7\n",
      "6\n",
      "5\n",
      "4\n",
      "3\n",
      "2\n",
      "1\n"
     ]
    }
   ],
   "source": [
    "for i in range(10, 0, -1):\n",
    "    print(i)"
   ]
  },
  {
   "cell_type": "code",
   "execution_count": 7,
   "id": "355cf295",
   "metadata": {},
   "outputs": [
    {
     "name": "stdout",
     "output_type": "stream",
     "text": [
      "Slicing (first 5 characters):   Hel\n",
      "Negative Indexing (last character):  \n",
      "Uppercase:   HELLO PYTHON!  \n",
      "Lowercase:   hello python!  \n",
      "Stripped Text: Hello Python!\n",
      "Replaced Text:   Hi Python!  \n",
      "Split Text: ['Hello', 'Python!']\n"
     ]
    }
   ],
   "source": [
    "text = \"  Hello Python!  \"\n",
    "print(\"Slicing (first 5 characters):\", text[:5]) \n",
    "print(\"Negative Indexing (last character):\", text[-1])  \n",
    "print(\"Uppercase:\", text.upper()) \n",
    "print(\"Lowercase:\", text.lower()) \n",
    "print(\"Stripped Text:\", text.strip())\n",
    "print(\"Replaced Text:\", text.replace(\"Hello\", \"Hi\")) \n",
    "print(\"Split Text:\", text.split()) "
   ]
  },
  {
   "cell_type": "code",
   "execution_count": 8,
   "id": "8ffefc59",
   "metadata": {},
   "outputs": [
    {
     "name": "stdout",
     "output_type": "stream",
     "text": [
      "Nested List: [1, 'Python', 3.14, True, [10, 20, 30]]\n"
     ]
    }
   ],
   "source": [
    "nested_list = [1, \"Python\", 3.14, True, [10, 20, 30]]\n",
    "print(\"Nested List:\", nested_list)"
   ]
  },
  {
   "cell_type": "code",
   "execution_count": 9,
   "id": "25e3a54c",
   "metadata": {},
   "outputs": [
    {
     "name": "stdout",
     "output_type": "stream",
     "text": [
      "First Element: Apple\n",
      "Third Element: 3.14\n",
      "Last Element: Data Science\n",
      "Second Last Element: True\n"
     ]
    }
   ],
   "source": [
    "my_list = [\"Apple\", 100, 3.14, True, \"Data Science\"]\n",
    "print(\"First Element:\", my_list[0]) \n",
    "print(\"Third Element:\", my_list[2]) \n",
    "print(\"Last Element:\", my_list[-1])\n",
    "print(\"Second Last Element:\", my_list[-2])"
   ]
  },
  {
   "cell_type": "code",
   "execution_count": 10,
   "id": "8c3e06ef",
   "metadata": {},
   "outputs": [
    {
     "name": "stdout",
     "output_type": "stream",
     "text": [
      "After append: [1, 2, 3, 4, 5, 6]\n",
      "After insert: [1, 2, 99, 3, 4, 5, 6]\n",
      "After remove: [1, 2, 99, 3, 5, 6]\n",
      "After pop: [1, 2, 99, 3, 5]\n",
      "After del: [1, 99, 3, 5]\n"
     ]
    }
   ],
   "source": [
    "my_list = [1, 2, 3, 4, 5]\n",
    "my_list.append(6)\n",
    "print(\"After append:\", my_list)\n",
    "my_list.insert(2, 99)\n",
    "print(\"After insert:\", my_list) \n",
    "my_list.remove(4)\n",
    "print(\"After remove:\", my_list) \n",
    "popped_element = my_list.pop()\n",
    "print(\"After pop:\", my_list)\n",
    "del my_list[1]\n",
    "print(\"After del:\", my_list)  "
   ]
  },
  {
   "cell_type": "code",
   "execution_count": 11,
   "id": "e0f98c04",
   "metadata": {},
   "outputs": [
    {
     "name": "stdout",
     "output_type": "stream",
     "text": [
      "Joined List Items:\n",
      "1\n",
      "2\n",
      "3\n",
      "4\n",
      "power\n",
      "True\n",
      "one\n",
      "two\n",
      "Three\n",
      "Data\n",
      "False\n",
      "\"data\" is present in the list.\n"
     ]
    }
   ],
   "source": [
    "list_1 = [1, 2, 3, 4, \"power\", True]\n",
    "list_2 = [\"one\", \"two\", \"Three\", \"Data\", False]\n",
    "combined_list = list_1 + list_2\n",
    "print(\"Joined List Items:\")\n",
    "for item in combined_list:\n",
    "    print(item)\n",
    "if \"data\".lower() in [str(i).lower() for i in combined_list]:\n",
    "    print('\"data\" is present in the list.')\n",
    "else:\n",
    "    print('\"data\" is NOT present in the list.')"
   ]
  },
  {
   "cell_type": "code",
   "execution_count": null,
   "id": "bc4a03d6",
   "metadata": {},
   "outputs": [],
   "source": []
  }
 ],
 "metadata": {
  "kernelspec": {
   "display_name": "Python 3 (ipykernel)",
   "language": "python",
   "name": "python3"
  },
  "language_info": {
   "codemirror_mode": {
    "name": "ipython",
    "version": 3
   },
   "file_extension": ".py",
   "mimetype": "text/x-python",
   "name": "python",
   "nbconvert_exporter": "python",
   "pygments_lexer": "ipython3",
   "version": "3.9.13"
  }
 },
 "nbformat": 4,
 "nbformat_minor": 5
}
